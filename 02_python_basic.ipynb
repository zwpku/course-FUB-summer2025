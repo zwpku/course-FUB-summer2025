{
 "cells": [
  {
   "cell_type": "markdown",
   "id": "a9d28a9d",
   "metadata": {},
   "source": [
    "### Jupyter \n",
    "\n",
    "1. run/add/delete/move cell\n",
    "\n",
    "2. interrupt \n",
    "\n",
    "3. restart kernel\n",
    "\n",
    "4. markdown\n",
    "\n",
    "5. clear output\n",
    "\n",
    "### git\n",
    "    \n",
    "   ```\n",
    "   git clone https://github.com/zwpku/course-FUB-summer2025.git\n",
    "   ```\n",
    "\n",
    "### Python Tutorial:\n",
    "\n",
    "https://docs.python.org/3/tutorial/index.html"
   ]
  },
  {
   "cell_type": "markdown",
   "id": "132dbe0d",
   "metadata": {},
   "source": [
    "### Basics 1:\n",
    "\n",
    "1. Comments\n",
    "\n",
    "2. Assignment\n",
    "\n",
    "3. Data types: int, float, bool, string, list\n",
    "\n",
    "4. Print"
   ]
  },
  {
   "cell_type": "code",
   "execution_count": null,
   "id": "cc937386",
   "metadata": {},
   "outputs": [],
   "source": [
    "# this is a comment\n",
    "\n",
    "# assignment, different data types\n",
    "a1 = 1\n",
    "a2 = 5/3\n",
    "a3 = 'a'\n",
    "a4 = True\n",
    "a5 = 5>3\n",
    "# print \n",
    "print (a1,a2,a3,a4,a5)\n",
    "\n",
    "# more types\n",
    "b1 = 'hello, world'\n",
    "b2 = [1,2]\n",
    "b3 = '%.2f' % a2\n",
    "b4, b5 = 'b4', 'b5'\n",
    "\n",
    "print ('\\n', b1, b2, b3, b4, b5)\n",
    "\n",
    "# formatted print\n",
    "print ('\\n%.2f, %d' % (1/2, 3))"
   ]
  },
  {
   "cell_type": "markdown",
   "id": "91b6fc6c",
   "metadata": {},
   "source": [
    "### working with list"
   ]
  },
  {
   "cell_type": "code",
   "execution_count": null,
   "id": "ef758492",
   "metadata": {},
   "outputs": [],
   "source": [
    "a = ['hello', 'world', 3, 5]\n",
    "\n",
    "#1. Indexing\n",
    "# the second element\n",
    "a1 = a[1]\n",
    "\n",
    "# return will be a (sub)list\n",
    "a2 = a[2:3]\n",
    "\n",
    "# index can be negative\n",
    "# last element\n",
    "a3 = a[-1]\n",
    "a4 = a[1:-1]\n",
    "a5 = a[-2]\n",
    "a6 = [[1,2],[3]]\n",
    "print (a1,a2,a3,a4,a5,a6)\n",
    "\n",
    "#2. operations\n",
    "\n",
    "print (\"length of list: \", len(a))\n",
    "\n",
    "# append\n",
    "a.append('last')\n",
    "\n",
    "print (\"after append:\", a)\n",
    "a.clear()\n",
    "print (\"after clear:\", a)\n",
    "\n",
    "# elements can have different types\n",
    "a = ['hello', 'world', 3, 5]\n",
    "print (a[3])"
   ]
  },
  {
   "cell_type": "markdown",
   "id": "aecfde3d",
   "metadata": {},
   "source": [
    "### working with dict"
   ]
  },
  {
   "cell_type": "code",
   "execution_count": null,
   "id": "ac36998b",
   "metadata": {},
   "outputs": [],
   "source": [
    "tel = {'jack': 4098, 'sape': 4139}\n",
    "print (tel)\n",
    "tel['guido'] = 4127\n",
    "print (tel)\n",
    "print (tel['jack'])\n",
    "print (list(tel))\n",
    "print ('sape' in tel)\n",
    "\n",
    "dict1 = dict([('sape', 4139), ('guido', 4127), ('jack', 4098)])\n",
    "\n",
    "print (dict1)\n",
    "\n",
    "dict2 = {x: x**2 for x in (2, 4, 6)}\n",
    "print (dict2)\n",
    "print (dict2[6])\n",
    "\n",
    "for k, v in dict2.items():\n",
    "    print(k, v)"
   ]
  },
  {
   "cell_type": "markdown",
   "id": "94ec2583",
   "metadata": {},
   "source": [
    "### control flow (1): If/else"
   ]
  },
  {
   "cell_type": "code",
   "execution_count": null,
   "id": "6758efc9",
   "metadata": {},
   "outputs": [],
   "source": [
    "########### Example 1 #############\n",
    "if 5/2 > 1: \n",
    "    print ('5/2 is larger than 1')\n",
    "\n",
    "########### Example 2 #############\n",
    "if 5/2 > 3:   \n",
    "    print ('5/2 is larger than 3')\n",
    "else :\n",
    "    print (\"5/2 is not larger than 3\")\n",
    "\n",
    "########### Example 3 #############   \n",
    "word = 'hello'\n",
    "if len(word) > 5:   \n",
    "    print (\"there are more than 5 letters.\")\n",
    "elif len(word) < 5:\n",
    "    print (\"there are less than 5 letters.\")\n",
    "elif len(word) == 5:\n",
    "    print (\"there are 5 letters.\")    "
   ]
  },
  {
   "cell_type": "markdown",
   "id": "88f11aac",
   "metadata": {},
   "source": [
    "### control flow (2): for loop"
   ]
  },
  {
   "cell_type": "code",
   "execution_count": null,
   "id": "8d1bc4a6",
   "metadata": {},
   "outputs": [],
   "source": [
    "########### Example 1 #############\n",
    "\n",
    "s=0\n",
    "vec = [1,2,3,4,5]\n",
    "for idx in vec:\n",
    "    s = s + idx\n",
    "print (\"sum=\",s)\n",
    "\n",
    "# alternatively\n",
    "print (\"sum=\",sum(vec))\n",
    "\n",
    "########### Example 2 #############\n",
    "\n",
    "vec = [1,4,7,2,8,5]\n",
    "vec1 = []    \n",
    "for idx in vec:\n",
    "    if idx % 2 == 1 :\n",
    "        continue\n",
    "    vec1.append(idx)\n",
    "    \n",
    "print (vec1)\n",
    "# a more compact way \n",
    "vec2 = [idx for idx in vec if idx % 2 == 0]        \n",
    "print (vec2)\n",
    "\n",
    "########### Example 3 #############\n",
    "for idx in [1,4,7,2,8,5]:\n",
    "    if idx > 4 :\n",
    "        break\n",
    "    print (idx)\n",
    "    \n",
    "########### Example 4 #############\n",
    "# for and range\n",
    "for i in range(5):\n",
    "    print (i)\n",
    "\n",
    "tmp = list(range(4))\n",
    "print (tmp)\n",
    "\n",
    "########### Example 5 #############\n",
    "\n",
    "for i, v in enumerate(['tic', 'tac', 'toe']):\n",
    "    print(i, v)   "
   ]
  },
  {
   "cell_type": "markdown",
   "id": "8dffb1da",
   "metadata": {},
   "source": [
    "### Functions"
   ]
  },
  {
   "cell_type": "code",
   "execution_count": null,
   "id": "a9e2eddb",
   "metadata": {},
   "outputs": [],
   "source": [
    "########### Example 1 #############\n",
    "\n",
    "def fib2(n):  # return Fibonacci series up to n\n",
    "    \"\"\"Return a list containing the Fibonacci series up to n.\"\"\"\n",
    "    result = []\n",
    "    a, b = 0, 1\n",
    "    while a < n:\n",
    "        result.append(a)    # see below\n",
    "        a, b = b, a+b\n",
    "    return result\n",
    "    \n",
    "ret = fib2(8)\n",
    "print (ret)\n",
    "\n",
    "########### Example 2 #############\n",
    "def mysum(a,b,c=0):\n",
    "    return a+b+c\n",
    "\n",
    "print (mysum(1,2))\n",
    "print (mysum(1,2,3))\n",
    "\n",
    "########### Example 3 #############\n",
    "\n",
    "func = lambda x: x+4\n",
    "print (func(4))\n"
   ]
  }
 ],
 "metadata": {
  "kernelspec": {
   "display_name": "Python 3 (ipykernel)",
   "language": "python",
   "name": "python3"
  },
  "language_info": {
   "codemirror_mode": {
    "name": "ipython",
    "version": 3
   },
   "file_extension": ".py",
   "mimetype": "text/x-python",
   "name": "python",
   "nbconvert_exporter": "python",
   "pygments_lexer": "ipython3",
   "version": "3.10.8"
  }
 },
 "nbformat": 4,
 "nbformat_minor": 5
}
