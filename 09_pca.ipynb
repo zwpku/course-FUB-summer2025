{
 "cells": [
  {
   "cell_type": "markdown",
   "id": "e22d224b",
   "metadata": {},
   "source": [
    "## Demonstration of PCA\n",
    "\n",
    "\n",
    "Package scikit-learn implements various machine learning algorithms:\n",
    "\n",
    "    https://scikit-learn.org/stable/index.html        "
   ]
  },
  {
   "cell_type": "markdown",
   "id": "a512f89f",
   "metadata": {},
   "source": [
    "###  Example 1: 2d anistropic Gaussian blobs\n",
    "\n",
    "generate data"
   ]
  },
  {
   "cell_type": "code",
   "execution_count": null,
   "id": "d4822ae3",
   "metadata": {},
   "outputs": [],
   "source": [
    "import numpy as np\n",
    "import matplotlib.pyplot as plt\n",
    "\n",
    "from sklearn.datasets import make_blobs\n",
    "\n",
    "n_samples = 1500\n",
    "random_state = 170\n",
    "transformation = [[0.60834549, -0.63667341], [-0.40887718, 0.85253229]]\n",
    "\n",
    "X, y = make_blobs(n_samples=n_samples, random_state=random_state)\n",
    "\n",
    "X_aniso = np.dot(X, transformation)  # Anisotropic blobs\n",
    "\n",
    "plt.scatter(X_aniso[:, 0], X_aniso[:, 1])\n",
    "plt.title(\"Anisotropically Distributed Blobs\")\n",
    "\n",
    "plt.show()"
   ]
  },
  {
   "cell_type": "markdown",
   "id": "db622368",
   "metadata": {},
   "source": [
    "### Perform PCA to the dataset\n",
    "\n",
    "Documentation of **PCA**: \n",
    "\n",
    "https://scikit-learn.org/stable/modules/generated/sklearn.decomposition.PCA.html#sklearn.decomposition.PCA\n"
   ]
  },
  {
   "cell_type": "code",
   "execution_count": null,
   "id": "af1e95d0",
   "metadata": {},
   "outputs": [],
   "source": [
    "from sklearn.decomposition import PCA\n",
    "\n",
    "k=1\n",
    "pca = PCA(n_components=k)\n",
    "\n",
    "# map data to 1d\n",
    "X_reduced = pca.fit_transform(X_aniso)\n",
    "\n",
    "# projection in the original space\n",
    "X_original = pca.inverse_transform(X_reduced)\n",
    "\n",
    "# plot original data\n",
    "plt.scatter(X_aniso[:, 0], X_aniso[:, 1])\n",
    "\n",
    "# plot projection in R² \n",
    "scatter = plt.scatter(X_original[:, 0], X_original[:,1], s=10)\n",
    "\n",
    "plt.title(\"data and the PCA projection\")\n",
    "plt.show()\n",
    "\n",
    "if k == 1:\n",
    "    plt.scatter(X_aniso[:, 0], X_aniso[:, 1], c=X_reduced)\n",
    "    scatter = plt.scatter(X_original[:, 0], X_original[:,1], c=X_reduced, s=10)\n",
    "    plt.legend(*scatter.legend_elements())\n",
    "    plt.show()"
   ]
  },
  {
   "cell_type": "markdown",
   "id": "98a1cfc7",
   "metadata": {},
   "source": [
    "### Example 2: hand writing digits\n",
    "\n",
    "The dataset is provided by the scikit-learn package. \n",
    "\n",
    "See: \n",
    "https://scikit-learn.org/stable/modules/generated/sklearn.datasets.load_digits.html#sklearn.datasets.load_digits\n",
    "\n",
    "This code is modified based on:\n",
    "\n",
    "https://scikit-learn.org/stable/auto_examples/cluster/plot_kmeans_digits.html#sphx-glr-auto-examples-cluster-plot-kmeans-digits-py\n",
    "\n",
    "\n",
    "#### load data"
   ]
  },
  {
   "cell_type": "code",
   "execution_count": null,
   "id": "669ad977",
   "metadata": {},
   "outputs": [],
   "source": [
    "from sklearn.datasets import load_digits\n",
    "\n",
    "data, labels = load_digits(return_X_y=True)\n",
    "\n",
    "(n_samples, n_features), n_digits = data.shape, np.unique(labels).size\n",
    "\n",
    "print(f\"# digits: {n_digits}; # samples: {n_samples}; # features {n_features}\")\n",
    "\n",
    "# data shape\n",
    "print (data.shape, labels.shape)\n",
    "# first 100 labels\n",
    "print (labels[:100])"
   ]
  },
  {
   "cell_type": "markdown",
   "id": "b589b4fd",
   "metadata": {},
   "source": [
    "#### show some images"
   ]
  },
  {
   "cell_type": "code",
   "execution_count": null,
   "id": "0830f0f6",
   "metadata": {},
   "outputs": [],
   "source": [
    "_, axes = plt.subplots(nrows=2, ncols=5, figsize=(8, 3))\n",
    "\n",
    "for ax, image, label in zip(axes[0,:], data, labels):\n",
    "    ax.set_axis_off()\n",
    "    ax.imshow(image.reshape(8,8), cmap=plt.cm.gray_r, interpolation=\"nearest\")\n",
    "    \n",
    "for ax, image, label in zip(axes[1,:], data[5:,:], labels[5:]):\n",
    "    ax.set_axis_off()\n",
    "    ax.imshow(image.reshape(8,8), cmap=plt.cm.grafrom sklearn.cluster import KMeans\n",
    "y_r, interpolation=\"nearest\")\n"
   ]
  },
  {
   "cell_type": "markdown",
   "id": "0e44fff7",
   "metadata": {},
   "source": [
    "### PCA and k-means\n",
    "\n",
    "1. Apply PCA to reduce dimension of data: from $\\mathbb{R}^{64}$ to $\\mathbb{R}^2$\n",
    "\n",
    "2. Apply k-means clustering to the reduced data.\n"
   ]
  },
  {
   "cell_type": "code",
   "execution_count": null,
   "id": "f07009df",
   "metadata": {},
   "outputs": [],
   "source": [
    "from sklearn.cluster import KMeans\n",
    "\n",
    "# pca projection\n",
    "reduced_data = PCA(n_components=2).fit_transform(data)\n",
    "\n",
    "# k-means clustering of projected data\n",
    "kmeans = KMeans(n_clusters=n_digits, n_init=4)\n",
    "_ = kmeans.fit(reduced_data)"
   ]
  },
  {
   "cell_type": "markdown",
   "id": "37dcc8c1",
   "metadata": {},
   "source": [
    "### Visualize the clustering result"
   ]
  },
  {
   "cell_type": "code",
   "execution_count": null,
   "id": "eb713956",
   "metadata": {},
   "outputs": [],
   "source": [
    "# Step size of the mesh. Decrease to increase the quality of the VQ.\n",
    "h = 0.02  # point in the mesh [x_min, x_max]x[y_min, y_max].\n",
    "\n",
    "# Plot the decision boundary. For that, we will assign a color to each\n",
    "x_min, x_max = reduced_data[:, 0].min() - 1, reduced_data[:, 0].max() + 1\n",
    "y_min, y_max = reduced_data[:, 1].min() - 1, reduced_data[:, 1].max() + 1\n",
    "xx, yy = np.meshgrid(np.arange(x_min, x_max, h), np.arange(y_min, y_max, h))\n",
    "\n",
    "# Obtain labels for each point in mesh. Use last trained model.\n",
    "# predict returns index of the cluster each sample belongs to.\n",
    "Z = kmeans.predict(np.c_[xx.ravel(), yy.ravel()])\n",
    "\n",
    "#print (Z[:10])\n",
    "\n",
    "# Put the result into a color plot\n",
    "Z = Z.reshape(xx.shape)\n",
    "plt.figure(1)\n",
    "plt.clf()\n",
    "plt.imshow(\n",
    "    Z,\n",
    "    interpolation=\"nearest\",\n",
    "    extent=(xx.min(), xx.max(), yy.min(), yy.max()),\n",
    "    cmap=plt.cm.Paired,\n",
    "    aspect=\"auto\",\n",
    "    origin=\"lower\",\n",
    ")\n",
    "\n",
    "# plot projection of digits in dataset as a black dot\n",
    "plt.plot(reduced_data[:, 0], reduced_data[:, 1], \"k.\", markersize=2)\n",
    "\n",
    "# Plot the centroids as a white X\n",
    "centroids = kmeans.cluster_centers_\n",
    "plt.scatter(\n",
    "    centroids[:, 0],\n",
    "    centroids[:, 1],\n",
    "    marker=\"x\",\n",
    "    s=169,\n",
    "    linewidths=3,\n",
    "    color=\"w\",\n",
    "    zorder=10,\n",
    ")\n",
    "\n",
    "plt.title(\n",
    "    \"K-means clustering on the digits dataset (PCA-reduced data)\\n\"\n",
    "    \"Centroids are marked with white cross\"\n",
    ")\n",
    "plt.xlim(x_min, x_max)\n",
    "plt.ylim(y_min, y_max)\n",
    "plt.xticks(())\n",
    "plt.yticks(())\n",
    "plt.show()"
   ]
  },
  {
   "cell_type": "code",
   "execution_count": null,
   "id": "adb08f61",
   "metadata": {},
   "outputs": [],
   "source": []
  }
 ],
 "metadata": {
  "kernelspec": {
   "display_name": "Python 3 (ipykernel)",
   "language": "python",
   "name": "python3"
  },
  "language_info": {
   "codemirror_mode": {
    "name": "ipython",
    "version": 3
   },
   "file_extension": ".py",
   "mimetype": "text/x-python",
   "name": "python",
   "nbconvert_exporter": "python",
   "pygments_lexer": "ipython3",
   "version": "3.10.8"
  }
 },
 "nbformat": 4,
 "nbformat_minor": 5
}
