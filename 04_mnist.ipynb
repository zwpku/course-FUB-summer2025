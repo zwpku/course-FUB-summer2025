{
 "cells": [
  {
   "cell_type": "code",
   "execution_count": null,
   "id": "6c6d71d5",
   "metadata": {},
   "outputs": [],
   "source": [
    "import torch\n",
    "import torch.nn as nn\n",
    "import torchvision\n",
    "from torchvision import transforms\n",
    "from torch.utils.data import DataLoader\n",
    "import matplotlib.pyplot as plt"
   ]
  },
  {
   "cell_type": "markdown",
   "id": "d0fe9c1d",
   "metadata": {},
   "source": [
    "### prepare (download) the MNIST dataset\n",
    "\n",
    "and show information"
   ]
  },
  {
   "cell_type": "code",
   "execution_count": null,
   "id": "27764ef2",
   "metadata": {},
   "outputs": [],
   "source": [
    "# normalize the dataset\n",
    "transform = transforms.Compose([\n",
    "    transforms.ToTensor(),\n",
    "    transforms.Normalize((0.,), (1,))\n",
    "])\n",
    "\n",
    "# load the MNIST dataset, without normalization\n",
    "train_dataset = torchvision.datasets.MNIST(root='./data', train=True, transform=transform, download=True)\n",
    "\n",
    "# labels\n",
    "print (\"\\nLabels:\", train_dataset.classes)\n",
    "\n",
    "# digits of the images\n",
    "print (\"\\nClasses:\", train_dataset.targets)\n",
    "\n",
    "# shape of the data tensor\n",
    "print (\"\\nData shape:\", train_dataset.data.shape)"
   ]
  },
  {
   "cell_type": "markdown",
   "id": "347a58f3",
   "metadata": {},
   "source": [
    "### visualize images"
   ]
  },
  {
   "cell_type": "code",
   "execution_count": null,
   "id": "b43cad98",
   "metadata": {},
   "outputs": [],
   "source": [
    "# number of images to visualize\n",
    "num_examples = 10\n",
    "\n",
    "# define a dataloader so that we can get images\n",
    "train_loader = DataLoader(train_dataset, batch_size=num_examples, shuffle=True)\n",
    "# get some images\n",
    "for data in train_loader:\n",
    "    img, label = data \n",
    "    break\n",
    "\n",
    "# print the shape of the image tensor\n",
    "print (img.shape)\n",
    "\n",
    "# label of images\n",
    "print (\"\\nLabels:\", label)\n",
    "\n",
    "plt.figure(figsize=(8, 4))\n",
    "# visualize the images \n",
    "for i in range(num_examples):\n",
    "    plt.subplot(1, num_examples, i + 1)\n",
    "    plt.imshow(img[i].numpy().reshape(28,28), cmap='gray')\n",
    "    plt.axis('off')"
   ]
  },
  {
   "cell_type": "markdown",
   "id": "83dc5644",
   "metadata": {},
   "source": [
    "### visualize images according to labels\n",
    "\n",
    "See:\n",
    "1. torch.where: \n",
    "    https://docs.pytorch.org/docs/stable/generated/torch.where.html    "
   ]
  },
  {
   "cell_type": "code",
   "execution_count": null,
   "id": "8b2ca4de",
   "metadata": {},
   "outputs": [],
   "source": [
    "from torch.utils.data import Subset\n",
    "\n",
    "# number of images to show \n",
    "num_examples = 5\n",
    "\n",
    "# loop over labels\n",
    "for label in range(10):\n",
    "    \n",
    "    # select indices with the matching label\n",
    "    indices = torch.where(train_dataset.targets == label)[0]\n",
    "    \n",
    "    # define a dataset only with images with matching label\n",
    "    label_dataset = Subset(train_dataset, indices)\n",
    "\n",
    "    # define a dataloader for this (sub)-dataset\n",
    "    label_loader = DataLoader(label_dataset, batch_size=num_examples, shuffle=True)\n",
    "    \n",
    "    # get some images\n",
    "    for data in label_loader:\n",
    "        img, labels = data \n",
    "        break\n",
    "        \n",
    "    # labels of all images should be the same    \n",
    "    print (labels)\n",
    "    \n",
    "    plt.figure(figsize=(4, 2))\n",
    "    for i in range(num_examples):\n",
    "        plt.subplot(1, num_examples, i + 1)\n",
    "        plt.imshow(img[i].numpy().reshape(28,28), cmap='gray')\n",
    "        plt.axis('off')"
   ]
  },
  {
   "cell_type": "markdown",
   "id": "cdeef4a2",
   "metadata": {},
   "source": [
    "### Update the image using OU process\n",
    "\n",
    "Recall the OU process:\n",
    "\n",
    "$$dX_t = -\\kappa X_t dt + \\sqrt{2\\beta^{-1}} dB_t$$\n",
    "\n",
    "Euler-Maruyama scheme:\n",
    "\n",
    "$$ x_{n+1} = x_n - \\kappa x_n h + \\sqrt{2\\beta^{-1}h} \\eta_n, \\quad n=0,1,2,\\dots$$\n",
    "\n",
    "where $h$ is step-size, $\\eta_n$ is standard Gaussian.\n",
    "\n",
    "see: https://numpy.org/doc/2.2/reference/random/generated/numpy.random.normal.html"
   ]
  },
  {
   "cell_type": "code",
   "execution_count": null,
   "id": "e1b7b08b",
   "metadata": {},
   "outputs": [],
   "source": [
    "import numpy as np\n",
    "\n",
    "# parameters of the SDE\n",
    "kappa = 1.0\n",
    "beta = 3.0\n",
    "\n",
    "# total simulation time \n",
    "# SDE is simulated from t=0 to t=T.\n",
    "T = 1.0\n",
    "# number of steps\n",
    "N = 100\n",
    "# step-size\n",
    "h = T/N\n",
    "# random seed\n",
    "seed = 1234\n",
    "\n",
    "# random number generator \n",
    "rng = np.random.default_rng(seed=seed)\n",
    "\n",
    "# get some images\n",
    "for data in train_loader:\n",
    "    img, label = data \n",
    "    break\n",
    "\n",
    "# print the shape of the image tensor\n",
    "print (img.shape)\n",
    "\n",
    "# convert the data to numpy\n",
    "X = img.numpy()\n",
    "\n",
    "for step in range(N):\n",
    "    \n",
    "    # please complete the code below!\n",
    "\n",
    "    # first, generate r from a standard normal gaussian distribution\n",
    "    # the shape of r should be the same as the shape of X\n",
    "\n",
    "    # second, update X according to the Euler-Maruyama scheme\n",
    "        \n",
    "    # plot the images every 10 steps \n",
    "    if step % 10 == 0 :\n",
    "        plt.figure(figsize=(4, 2))\n",
    "        for i in range(num_examples):\n",
    "            plt.subplot(1, num_examples, i + 1)\n",
    "            plt.imshow(X[i].reshape(28,28), cmap='gray')\n",
    "            plt.axis('off')\n",
    "            if i == 0 : \n",
    "                plt.title(\"step=%d\" % step)"
   ]
  }
 ],
 "metadata": {
  "kernelspec": {
   "display_name": "Python 3 (ipykernel)",
   "language": "python",
   "name": "python3"
  },
  "language_info": {
   "codemirror_mode": {
    "name": "ipython",
    "version": 3
   },
   "file_extension": ".py",
   "mimetype": "text/x-python",
   "name": "python",
   "nbconvert_exporter": "python",
   "pygments_lexer": "ipython3",
   "version": "3.10.8"
  }
 },
 "nbformat": 4,
 "nbformat_minor": 5
}
