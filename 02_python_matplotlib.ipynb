{
 "cells": [
  {
   "cell_type": "markdown",
   "id": "37bd4282",
   "metadata": {},
   "source": [
    "### Tutorials:\n",
    "\n",
    "matplotlib: https://matplotlib.org/"
   ]
  },
  {
   "cell_type": "code",
   "execution_count": null,
   "id": "2123b534",
   "metadata": {},
   "outputs": [],
   "source": [
    "import numpy as np\n",
    "import matplotlib.pyplot as plt\n",
    "\n",
    "import matplotlib.colors as colors\n",
    "import matplotlib.cm as cm\n",
    "import numpy as np\n",
    "import math "
   ]
  },
  {
   "cell_type": "markdown",
   "id": "1b02baf3",
   "metadata": {},
   "source": [
    "1d plot"
   ]
  },
  {
   "cell_type": "code",
   "execution_count": null,
   "id": "040d537b",
   "metadata": {},
   "outputs": [],
   "source": [
    "fig = plt.figure(figsize=(13,5))\n",
    "ax = fig.add_subplot(1, 2, 1)\n",
    "\n",
    "# prepare data\n",
    "pi = math.pi\n",
    "x = np.linspace(0, 2 * pi)\n",
    "y = np.sin(x)\n",
    "\n",
    "# plot \n",
    "ax.plot(x, y)\n",
    "\n",
    "# set various parameters below in order to make the plot nice\n",
    "ax.set_aspect('equal')\n",
    "ax.set_xlabel(r'$x$',fontsize=20)\n",
    "ax.set_ylabel(r'$y$',fontsize=20, rotation=0)\n",
    "ax.tick_params(axis='both', labelsize=20)\n",
    "\n",
    "ax.set_xticks([0, 2, 4, 6])\n",
    "ax.set_yticks([-1,-0.5, 0, 0.5, 1])\n",
    "\n",
    "ax.set_xlim([0, 2*pi])\n",
    "ax.set_ylim([-1,1])\n",
    "\n",
    "ax.set_title(r'$\\sin(x)$',fontsize=25)\n",
    "\n",
    "# save the plot to file\n",
    "fig_name = f\"1d.png\"\n",
    "fig.savefig(fig_name, bbox_inches='tight', dpi=200)"
   ]
  },
  {
   "cell_type": "markdown",
   "id": "1945eb63",
   "metadata": {},
   "source": [
    " define a potential V and simulate the SDE using Euler-Maruyama scheme"
   ]
  },
  {
   "cell_type": "code",
   "execution_count": null,
   "id": "087d5a32",
   "metadata": {},
   "outputs": [],
   "source": [
    "# a potential function\n",
    "def V(X):\n",
    "    return (X[0]**2 - 1)**2 + 1.0 / 0.5 * (X[0]**2 + X[1] - 1)**2\n",
    "\n",
    "# gradient of potential function \n",
    "def gradV(X):\n",
    "    return np.array(( 4.0 * X[0] * (X[0]**2 - 1.0 + 1.0 / 0.5* (X[0]**2 + X[1] - 1)), 2.0 / 0.5 * (X[0]**2 + X[1] - 1)) )\n",
    "\n",
    "# function to generate trajectory data using Euler-Maruyama scheme\n",
    "def sample():\n",
    "    rng = np.random.default_rng(seed=42)\n",
    "    X = [-1, 0]\n",
    "    dim = 2 \n",
    "    traj = [X]\n",
    "    beta = 1\n",
    "    delta_t = 0.001\n",
    "    save = 10\n",
    "    N = 100000\n",
    "\n",
    "    for i in range(N):\n",
    "        b = rng.normal(size=(dim,))\n",
    "        X = X - gradV(X) * delta_t + np.sqrt(2 * delta_t/beta) * b\n",
    "        if i % save==0:\n",
    "            traj.append(X)\n",
    "\n",
    "    return np.array(traj)\n",
    "\n",
    "# generate a 2D trajectory \n",
    "trajectory = sample()\n",
    "\n",
    "print (\"shape of trajectory array:\", trajectory.shape)\n",
    "# compute values of potential along the trajectory\n",
    "v_traj = np.array([V(x) for x in trajectory])"
   ]
  },
  {
   "cell_type": "markdown",
   "id": "b1c6692d",
   "metadata": {},
   "source": [
    "a simple contour plot"
   ]
  },
  {
   "cell_type": "code",
   "execution_count": null,
   "id": "ad841153",
   "metadata": {},
   "outputs": [],
   "source": [
    "x = np.arange(-2.5, 2.5, 0.05)\n",
    "y = np.arange(-2.5, 2.5, 0.05)\n",
    "X, Y = np.meshgrid(x, y)\n",
    "\n",
    "plt.figure(figsize = (6, 4))\n",
    "\n",
    "contour_levels = [0.0, 1.0, 1.5, 2.0, 3.0, 4.0]\n",
    "\n",
    "# contour line of the potential\n",
    "V_on_grid = V([X,Y])\n",
    "CS = plt.contour(X, Y, V_on_grid, contour_levels)"
   ]
  },
  {
   "cell_type": "markdown",
   "id": "f351bb40",
   "metadata": {},
   "source": [
    "plot profile and contour "
   ]
  },
  {
   "cell_type": "code",
   "execution_count": null,
   "id": "65201468",
   "metadata": {},
   "outputs": [],
   "source": [
    "fig = plt.figure(figsize=(7,4))\n",
    "ax = fig.add_subplot(1, 1, 1)\n",
    "\n",
    "# plot profile by pcolormesh\n",
    "im = ax.pcolormesh(X, Y, V_on_grid, cmap='coolwarm',shading='auto', vmin=0, vmax=4)\n",
    "\n",
    "# show contour lines\n",
    "contours = ax.contour(X, Y, V_on_grid, contour_levels)\n",
    "ax.clabel(contours, inline=True, fontsize=13,colors='black')\n",
    "\n",
    "ax.set_aspect('equal')\n",
    "ax.set_xlabel(r'$x_1$',fontsize=20)\n",
    "ax.set_ylabel(r'$x_2$',fontsize=20, rotation=0)\n",
    "ax.tick_params(axis='both', labelsize=20)\n",
    "\n",
    "ax.set_xticks([-2.0, -1.0, 0, 1.0, 2.0])\n",
    "ax.set_yticks([-2.0, -1.0, 0, 1.0, 2.0])\n",
    "ax.set_xlim([-2.5, 2.5])\n",
    "ax.set_ylim([-2.5, 2.5])\n",
    "\n",
    "ax.set_title('V',fontsize=25)\n",
    "\n",
    "# show colorbar\n",
    "cbar = fig.colorbar(im, ax=ax, shrink=1.0)\n",
    "cbar.ax.tick_params(labelsize=15)\n",
    "plt.show()"
   ]
  },
  {
   "cell_type": "code",
   "execution_count": null,
   "id": "e63d3e0a",
   "metadata": {},
   "outputs": [],
   "source": [
    "fig = plt.figure(figsize=(7,5))\n",
    "ax = fig.add_subplot(1, 1, 1)\n",
    "\n",
    "# compute histogram statistics\n",
    "h, xedges, yedges = np.histogram2d(trajectory[:,0], trajectory[:,1], bins=[100, 100], range=[[-2.5,2.5],[-2.5,2.5]], density=True)\n",
    "\n",
    "# get the meshgrid\n",
    "X, Y = np.meshgrid(xedges, yedges)\n",
    "# plot the histogram, specify the colormap and log scale\n",
    "im = ax.pcolormesh(X, Y, h.T, cmap='coolwarm', shading='auto', norm=colors.LogNorm(0.1, 1))\n",
    "\n",
    "# show colorbar\n",
    "cbar = fig.colorbar(im, ax=ax, shrink=1.0)\n",
    "cbar.ax.tick_params(labelsize=15)\n",
    "\n",
    "ax.set_aspect('equal')\n",
    "ax.set_xlim([-2, 2])\n",
    "ax.set_ylim([-2, 2])\n",
    "ax.set_xlabel(r'$x_1$',fontsize=20)\n",
    "ax.set_ylabel(r'$x_2$',fontsize=20, rotation=0)\n",
    "ax.tick_params(axis='both', labelsize=20)\n",
    "ax.set_xticks([-2.0, -1.0, 0, 1.0, 2.0])\n",
    "ax.set_yticks([-2.0, -1.0, 0, 1.0, 2.0])\n",
    "plt.show()"
   ]
  },
  {
   "cell_type": "code",
   "execution_count": null,
   "id": "c1334e48",
   "metadata": {},
   "outputs": [],
   "source": [
    "fig=plt.figure(figsize=(7,5))\n",
    "ax = plt.gca()\n",
    "\n",
    "ret = ax.scatter(trajectory[:,0], trajectory[:,1], c=v_traj)\n",
    "\n",
    "cbar = fig.colorbar(ret, ax=ax, shrink=1.0)\n",
    "cbar.ax.tick_params(labelsize=15)\n",
    "ax.set_xlabel(r'$x_1$',fontsize=20)\n",
    "ax.set_ylabel(r'$x_2$',fontsize=20, rotation=0)\n",
    "ax.tick_params(axis='both', labelsize=20)\n",
    "ax.set_title('trajectory data',fontsize=25)\n",
    "plt.show()"
   ]
  }
 ],
 "metadata": {
  "kernelspec": {
   "display_name": "Python 3 (ipykernel)",
   "language": "python",
   "name": "python3"
  },
  "language_info": {
   "codemirror_mode": {
    "name": "ipython",
    "version": 3
   },
   "file_extension": ".py",
   "mimetype": "text/x-python",
   "name": "python",
   "nbconvert_exporter": "python",
   "pygments_lexer": "ipython3",
   "version": "3.10.8"
  }
 },
 "nbformat": 4,
 "nbformat_minor": 5
}
