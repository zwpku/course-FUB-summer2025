{
 "cells": [
  {
   "cell_type": "markdown",
   "id": "26328c42",
   "metadata": {},
   "source": [
    "### Datasets "
   ]
  },
  {
   "cell_type": "code",
   "execution_count": null,
   "id": "9dab6f3c",
   "metadata": {},
   "outputs": [],
   "source": [
    "import numpy as np\n",
    "import matplotlib.pyplot as plt\n",
    "\n",
    "from sklearn.datasets import make_moons, make_circles, make_blobs"
   ]
  },
  {
   "cell_type": "markdown",
   "id": "6574a6aa",
   "metadata": {},
   "source": [
    "### dataset 1"
   ]
  },
  {
   "cell_type": "code",
   "execution_count": null,
   "id": "4d5f625f",
   "metadata": {},
   "outputs": [],
   "source": [
    "n_samples = 5000\n",
    "\n",
    "X, Y = make_moons(n_samples, noise=0.1, random_state=10)\n",
    "\n",
    "fig, ax = plt.subplots(1,1, figsize=(5, 4))\n",
    "\n",
    "ax.scatter(X[:, 0], X[:, 1])\n",
    "ax.set_title(\"make_moons\")\n",
    "\n",
    "plt.tight_layout()\n",
    "plt.show()\n",
    "\n",
    "print (X.shape)"
   ]
  },
  {
   "cell_type": "markdown",
   "id": "ea7397dd",
   "metadata": {},
   "source": [
    "### dataset 2"
   ]
  },
  {
   "cell_type": "code",
   "execution_count": null,
   "id": "f2dc458a",
   "metadata": {},
   "outputs": [],
   "source": [
    "n_samples = 5000\n",
    "\n",
    "X, Y = make_circles(\n",
    "    n_samples=n_samples, factor=0.5, noise=0.05, random_state=170\n",
    ")\n",
    "\n",
    "fig, ax = plt.subplots(1,1, figsize=(5, 4))\n",
    "\n",
    "ax.scatter(X[:, 0], X[:, 1])\n",
    "ax.set_title(\"make_circles\")\n",
    "\n",
    "plt.tight_layout()\n",
    "plt.show()\n",
    "\n",
    "print (X.shape)"
   ]
  },
  {
   "cell_type": "markdown",
   "id": "2af61a46",
   "metadata": {},
   "source": [
    "### dataset 3"
   ]
  },
  {
   "cell_type": "code",
   "execution_count": null,
   "id": "5e6ec74f",
   "metadata": {},
   "outputs": [],
   "source": [
    "n_samples = 5000\n",
    "X, Y = make_blobs(n_samples=n_samples, random_state=170)\n",
    "# center the data \n",
    "X = X - X.mean(axis=0)\n",
    "\n",
    "fig, ax = plt.subplots(1,1, figsize=(5, 4))\n",
    "\n",
    "ax.scatter(X[:, 0], X[:, 1])\n",
    "ax.set_title(\"make_blobs\")\n",
    "\n",
    "plt.tight_layout()\n",
    "plt.show()\n",
    "\n",
    "print (X.shape)"
   ]
  },
  {
   "cell_type": "code",
   "execution_count": null,
   "id": "fcc2bf22",
   "metadata": {},
   "outputs": [],
   "source": []
  }
 ],
 "metadata": {
  "kernelspec": {
   "display_name": "Python 3 (ipykernel)",
   "language": "python",
   "name": "python3"
  },
  "language_info": {
   "codemirror_mode": {
    "name": "ipython",
    "version": 3
   },
   "file_extension": ".py",
   "mimetype": "text/x-python",
   "name": "python",
   "nbconvert_exporter": "python",
   "pygments_lexer": "ipython3",
   "version": "3.10.8"
  }
 },
 "nbformat": 4,
 "nbformat_minor": 5
}
