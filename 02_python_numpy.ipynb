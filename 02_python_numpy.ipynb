{
 "cells": [
  {
   "cell_type": "markdown",
   "id": "37bd4282",
   "metadata": {},
   "source": [
    "### Tutorials:\n",
    "\n",
    "Numpy: https://numpy.org/doc/stable/user/quickstart.html\n",
    "\n",
    "Scipy: https://docs.scipy.org/doc/scipy/tutorial/linalg.html\n",
    "\n",
    "numpy.random: https://numpy.org/doc/2.0/reference/random/index.html\n",
    "\n",
    "random generator:  https://numpy.org/doc/2.0/reference/random/generator.html"
   ]
  },
  {
   "cell_type": "code",
   "execution_count": null,
   "id": "2123b534",
   "metadata": {},
   "outputs": [],
   "source": [
    "import numpy as np\n",
    "from scipy import linalg\n",
    "import matplotlib.pyplot as plt\n",
    "\n",
    "print(np.__version__)"
   ]
  },
  {
   "cell_type": "markdown",
   "id": "132dbe0d",
   "metadata": {},
   "source": [
    "## Part 1: Basic\n",
    "\n",
    "### initialization"
   ]
  },
  {
   "cell_type": "code",
   "execution_count": null,
   "id": "05f604aa",
   "metadata": {},
   "outputs": [],
   "source": [
    "# initialization\n",
    "a1 = np.arange(15)\n",
    "a2 = np.array([1, 2, 3, 4]) \n",
    "a3 = np.zeros((3,2))\n",
    "a4 = np.ones((3,2))\n",
    "a5 = np.eye(3)\n",
    "a6 = np.repeat(3,2)\n",
    "# shape\n",
    "print (a1,'\\n', a1.shape)\n",
    "print (a3,'\\n', a3.shape)\n",
    "print (a4,'\\n', a4.shape)\n",
    "print (a5)\n",
    "print (a6)"
   ]
  },
  {
   "cell_type": "code",
   "execution_count": null,
   "id": "c3d1106a",
   "metadata": {},
   "outputs": [],
   "source": [
    "# reshape, dtype, sum\n",
    "b = np.arange(15).reshape(3, 5)\n",
    "print (b, b.shape, b.shape[1])\n",
    "print (b.dtype, b.sum(), b.min(), b.max())\n",
    "\n",
    "mat = np.array([[1.0,0], [1,1.0]])\n",
    "print (mat)\n",
    "print (mat.T)"
   ]
  },
  {
   "cell_type": "markdown",
   "id": "88f11aac",
   "metadata": {},
   "source": [
    "### arrange and linspace"
   ]
  },
  {
   "cell_type": "code",
   "execution_count": null,
   "id": "c43ee369",
   "metadata": {},
   "outputs": [],
   "source": [
    "a5 = np.arange(10, 30, 5)\n",
    "a6 = np.linspace(0,10, 11)\n",
    "print (a5)\n",
    "print (a6)"
   ]
  },
  {
   "cell_type": "markdown",
   "id": "8dffb1da",
   "metadata": {},
   "source": [
    "### basic operations"
   ]
  },
  {
   "cell_type": "code",
   "execution_count": null,
   "id": "8e682717",
   "metadata": {},
   "outputs": [],
   "source": [
    "a1 = np.ones((3,2))\n",
    "a2 = a1 * 3\n",
    "print (a2)\n",
    "a3 = a1 + a2\n",
    "print (a3)\n",
    "\n",
    "a4 = np.exp(a3)\n",
    "print (a4)\n",
    "\n",
    "print (a3.sum(axis=1))"
   ]
  },
  {
   "cell_type": "markdown",
   "id": "3e6e7546",
   "metadata": {},
   "source": [
    "### Indexing"
   ]
  },
  {
   "cell_type": "code",
   "execution_count": null,
   "id": "a321ed7d",
   "metadata": {},
   "outputs": [],
   "source": [
    "a1= np.array([1, 2, 3, 4,5,6]).reshape(2,3) \n",
    "print (a1)\n",
    "print (a1[:,0])\n",
    "print (a1[0,1:])\n",
    "\n",
    "b = a1 > 3\n",
    "print (b)\n",
    "\n",
    "print (a1[a1 % 2 == 1])"
   ]
  },
  {
   "cell_type": "markdown",
   "id": "fa1daa66",
   "metadata": {},
   "source": [
    "### stack and concatenate"
   ]
  },
  {
   "cell_type": "code",
   "execution_count": null,
   "id": "584ce159",
   "metadata": {},
   "outputs": [],
   "source": [
    "a1 = np.arange(4)\n",
    "a2 = a1 * 2\n",
    "# a new dimension is added\n",
    "a3 = np.stack((a1, a2))\n",
    "# existing dimension is used\n",
    "a4 = np.concatenate((a1, a2))\n",
    "\n",
    "print (a1, a2)\n",
    "print (a3)\n",
    "print (a4)\n",
    "\n",
    "a1 = np.arange(4).reshape(2,2)\n",
    "a2 = np.zeros((2,2))\n",
    "a3 = np.stack((a1, a2))\n",
    "a4 = np.concatenate((a1, a2))\n",
    "print (a3, \"\\n\\n\")\n",
    "print (a4)\n"
   ]
  },
  {
   "cell_type": "markdown",
   "id": "c6635732",
   "metadata": {},
   "source": [
    "### matrix multiplication"
   ]
  },
  {
   "cell_type": "code",
   "execution_count": null,
   "id": "233d1287",
   "metadata": {},
   "outputs": [],
   "source": [
    "a1 = np.arange(4).reshape(2,2)\n",
    "print (a1, '\\n', a1*a1, '\\n', np.matmul(a1,a1))\n",
    "\n",
    "v = np.arange(2)\n",
    "\n",
    "print (np.matvec(a1, v))"
   ]
  },
  {
   "cell_type": "markdown",
   "id": "822f6859",
   "metadata": {},
   "source": [
    "## Part 2: Scipy\n",
    "\n",
    "\n",
    "### linear equation $Ax=b$"
   ]
  },
  {
   "cell_type": "code",
   "execution_count": null,
   "id": "aaf29db0",
   "metadata": {},
   "outputs": [],
   "source": [
    "\n",
    "A = np.array([[1,3,5],[2,5,1],[2,3,8]])\n",
    "print (linalg.inv(A))\n",
    "\n",
    "print (A.dot(linalg.inv(A))) \n",
    "\n",
    "b = np.array([5,6,7])\n",
    "sol = linalg.inv(A).dot(b)  # slow\n",
    "\n",
    "res = A.dot(linalg.inv(A).dot(b)) - b  # check\n",
    "print (sol, res, linalg.norm(res))\n",
    "\n",
    "sol1 = np.linalg.solve(A, b)  # fast\n",
    "res1 = A.dot(np.linalg.solve(A, b)) - b  # check\n",
    "print (sol1, res1, linalg.norm(res1))\n"
   ]
  },
  {
   "cell_type": "markdown",
   "id": "169f74b7",
   "metadata": {},
   "source": [
    "### eigenvalue problem $Ax=\\lambda x$"
   ]
  },
  {
   "cell_type": "code",
   "execution_count": null,
   "id": "6d6fb7a0",
   "metadata": {},
   "outputs": [],
   "source": [
    "la, v = linalg.eig(A)\n",
    "print (la)\n",
    "print (v)\n",
    "\n",
    "# check the first eigenvalue and eigenvector\n",
    "l1 = la[0]\n",
    "v1 = v[:,0]\n",
    "print(linalg.norm(A.dot(v1) - l1*v1))"
   ]
  },
  {
   "cell_type": "markdown",
   "id": "45b56d03",
   "metadata": {},
   "source": [
    "### SVD decomposition"
   ]
  },
  {
   "cell_type": "code",
   "execution_count": null,
   "id": "4095f89e",
   "metadata": {},
   "outputs": [],
   "source": [
    "A = np.array([[1,3,5],[2,5,1],[2,3,8]])\n",
    "\n",
    "U,s,Vh = linalg.svd(A)\n",
    "\n",
    "Sig = linalg.diagsvd(s,3,3)\n",
    "\n",
    "print (U, '\\n', Vh, '\\n', Sig)\n",
    "# check \n",
    "print (U.dot(Sig.dot(Vh)))\n",
    "\n",
    "A2 = A.dot(A.T)\n",
    "la, v = linalg.eig(A2)\n",
    "\n",
    "# check this gives the singular values as well.\n",
    "print (np.sqrt(la))"
   ]
  },
  {
   "cell_type": "markdown",
   "id": "dc085ee1",
   "metadata": {},
   "source": [
    "## Part 3: Random\n",
    "\n",
    "3.1. uniform distribution"
   ]
  },
  {
   "cell_type": "code",
   "execution_count": null,
   "id": "547bcc38",
   "metadata": {},
   "outputs": [],
   "source": [
    "rng = np.random.default_rng(seed=42)\n",
    "\n",
    "N = 1000\n",
    "a = rng.uniform(0, 2, N)\n",
    "\n",
    "count, bins, _ = plt.hist(a, 20, density=True)\n",
    "plt.plot(bins, 0.5 * np.ones_like(bins), linewidth=2, color='r')\n",
    "plt.show()"
   ]
  },
  {
   "cell_type": "markdown",
   "id": "e87c903f",
   "metadata": {},
   "source": [
    "3.2 Multivariate normal distribution "
   ]
  },
  {
   "cell_type": "code",
   "execution_count": null,
   "id": "adea3782",
   "metadata": {},
   "outputs": [],
   "source": [
    "######### test 1 #######\n",
    "mean = (1, 2)\n",
    "cov = [[1, 0], [0, 1]]\n",
    "x = rng.multivariate_normal(mean, cov, (3, 3))\n",
    "print (x.shape)\n",
    "\n",
    "######### test 2 #######\n",
    "mean = [0,0]\n",
    "cov = [[1, 0], [0, 10]]\n",
    "pts = rng.multivariate_normal(mean, cov, size=800)\n",
    "\n",
    "print (pts.shape)\n",
    "print ('mean=', pts.mean(axis=0))\n",
    "# np.cov estimates covariance\n",
    "print ('covariance:\\n', np.cov(pts.T))\n",
    "\n",
    "plt.plot(pts[:, 0], pts[:, 1], '.', alpha=0.5)\n",
    "plt.axis('equal')\n",
    "plt.grid()\n",
    "plt.show()"
   ]
  },
  {
   "cell_type": "markdown",
   "id": "c3efe142",
   "metadata": {},
   "source": [
    "3.2 Brownian motion in $\\mathbb{R}^2$"
   ]
  },
  {
   "cell_type": "code",
   "execution_count": null,
   "id": "5d751b55",
   "metadata": {},
   "outputs": [],
   "source": [
    "# total time\n",
    "T = 1\n",
    "N = 1000\n",
    "# step-size\n",
    "dt = T/N\n",
    "# no. of trajectories\n",
    "m = 500\n",
    "\n",
    "seed = 54321\n",
    "\n",
    "rng = np.random.default_rng(seed)\n",
    "\n",
    "n_save = 4\n",
    "dim = 2\n",
    "# only save \n",
    "x_saved = np.zeros((n_save, N+1, dim))\n",
    "x = np.zeros((m, dim))\n",
    "\n",
    "cov = dt * np.eye(2)\n",
    "print ('covariance:\\n', cov)\n",
    "\n",
    "for n in range(N):\n",
    "    dx = rng.multivariate_normal([0,0], cov, m)\n",
    "    x = x + dx\n",
    "    x_saved[:,n+1,:] = x[:n_save,:]\n",
    "\n",
    "for i in range(n_save):\n",
    "    plt.plot(x_saved[i,:,0], x_saved[i,:,1])\n",
    "plt.xlim([-2,2])\n",
    "plt.ylim([-2,2])\n",
    "\n",
    "# estimate the mean of Brownian motion at time T   \n",
    "print (\"estimated mean at time T=%.1f using %d trajectories:\" % (T,m), np.mean(x, axis=0) )  "
   ]
  }
 ],
 "metadata": {
  "kernelspec": {
   "display_name": "Python 3 (ipykernel)",
   "language": "python",
   "name": "python3"
  },
  "language_info": {
   "codemirror_mode": {
    "name": "ipython",
    "version": 3
   },
   "file_extension": ".py",
   "mimetype": "text/x-python",
   "name": "python",
   "nbconvert_exporter": "python",
   "pygments_lexer": "ipython3",
   "version": "3.10.8"
  }
 },
 "nbformat": 4,
 "nbformat_minor": 5
}
