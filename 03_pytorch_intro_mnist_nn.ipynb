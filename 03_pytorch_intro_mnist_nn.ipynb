{
 "cells": [
  {
   "cell_type": "markdown",
   "id": "afbc8c47",
   "metadata": {},
   "source": [
    "official tutorial: https://docs.pytorch.org/tutorials/beginner/introyt/tensors_deeper_tutorial.html"
   ]
  },
  {
   "cell_type": "code",
   "execution_count": null,
   "id": "6c6d71d5",
   "metadata": {},
   "outputs": [],
   "source": [
    "import torch\n",
    "import torch.nn as nn\n",
    "import torchvision\n",
    "from torchvision import transforms\n",
    "from torch.utils.data import DataLoader\n",
    "import matplotlib.pyplot as plt"
   ]
  },
  {
   "cell_type": "markdown",
   "id": "d0fe9c1d",
   "metadata": {},
   "source": [
    "### prepare the MNIST dataset"
   ]
  },
  {
   "cell_type": "code",
   "execution_count": null,
   "id": "27764ef2",
   "metadata": {},
   "outputs": [],
   "source": [
    "# Normalize the dataset\n",
    "transform = transforms.Compose([\n",
    "    transforms.ToTensor(),\n",
    "#    transforms.Normalize((0.,), (1,))\n",
    "])\n",
    "\n",
    "# Load the MNIST dataset, without normalization\n",
    "train_dataset = torchvision.datasets.MNIST(root='./data', train=True, transform=transform, download=True)\n",
    "test_dataset = torchvision.datasets.MNIST(root='./data', train=False, transform=transform, download=True)\n",
    "\n",
    "all_data = torch.cat([data for data, _ in train_dataset], dim=0)\n",
    "min_value = torch.min(all_data)\n",
    "max_value = torch.max(all_data)\n",
    "\n",
    "# Range of values of data is important when defining autoencoder\n",
    "\n",
    "print(\"minimum value of train dataset:\",min_value)\n",
    "print(\"maximum value of train dataset:\",max_value)\n",
    "print(\"\\nformat of train data:\", all_data.shape)\n",
    "\n",
    "# Show labels\n",
    "print (\"\\nLabels:\", train_dataset.classes)\n",
    "\n",
    "# tensor containing the corresponding digits of the images\n",
    "print (\"\\nClasses:\", train_dataset.targets)"
   ]
  },
  {
   "cell_type": "markdown",
   "id": "cdeef4a2",
   "metadata": {},
   "source": [
    "### show some samples"
   ]
  },
  {
   "cell_type": "code",
   "execution_count": null,
   "id": "ca20711b",
   "metadata": {},
   "outputs": [],
   "source": [
    "from collections import defaultdict\n",
    "from torch.utils.data import Subset\n",
    "\n",
    "# Dictionary to hold indices for each label\n",
    "label_to_indices = defaultdict(list)\n",
    "\n",
    "# Populate the dictionary\n",
    "for idx, (_, label) in enumerate(train_dataset):\n",
    "     label_to_indices[label].append(idx)\n",
    "\n",
    "# Create a dictionary of datasets (one for each label)\n",
    "label_datasets = {label: Subset(train_dataset, indices) for label, indices in label_to_indices.items()}\n",
    "\n",
    "for label in range(10):\n",
    "    \n",
    "    num_examples = 10  \n",
    "    label_loader = DataLoader(label_datasets[label], batch_size=num_examples, shuffle=True)\n",
    "\n",
    "    # get a mini-batch\n",
    "    for data in label_loader:\n",
    "        img, _ = data\n",
    "        break\n",
    "        \n",
    "    # Visualize some examples\n",
    "    plt.figure(figsize=(20, 4))\n",
    "    \n",
    "    for i in range(num_examples):\n",
    "        plt.subplot(2, num_examples, i + 1)\n",
    "        plt.imshow(img[i].cpu().numpy().reshape(28,28), cmap='gray')\n",
    "        plt.axis('off')"
   ]
  },
  {
   "cell_type": "markdown",
   "id": "63adf642",
   "metadata": {},
   "source": [
    "### define a neural network"
   ]
  },
  {
   "cell_type": "code",
   "execution_count": null,
   "id": "3e5cf99e",
   "metadata": {},
   "outputs": [],
   "source": [
    "class NeuralNetwork(nn.Module):\n",
    "    def __init__(self):\n",
    "        super().__init__()\n",
    "        self.flatten = nn.Flatten()\n",
    "        self.linear_relu_stack = nn.Sequential(\n",
    "            nn.Linear(28*28, 512),\n",
    "            nn.ReLU(),\n",
    "            nn.Linear(512, 512),\n",
    "            nn.ReLU(),\n",
    "            nn.Linear(512, 10),\n",
    "        )\n",
    "\n",
    "    def forward(self, x):\n",
    "        x = self.flatten(x)\n",
    "        logits = self.linear_relu_stack(x)\n",
    "        return logits\n",
    "\n",
    "model = NeuralNetwork()\n",
    "print(model)"
   ]
  },
  {
   "cell_type": "markdown",
   "id": "cf27d80b",
   "metadata": {},
   "source": [
    "evalute the function"
   ]
  },
  {
   "cell_type": "code",
   "execution_count": null,
   "id": "a1ebf57a",
   "metadata": {},
   "outputs": [],
   "source": [
    "out = model(all_data)\n",
    "print (out.shape) "
   ]
  },
  {
   "cell_type": "code",
   "execution_count": null,
   "id": "e1b7b08b",
   "metadata": {},
   "outputs": [],
   "source": []
  }
 ],
 "metadata": {
  "kernelspec": {
   "display_name": "Python 3 (ipykernel)",
   "language": "python",
   "name": "python3"
  },
  "language_info": {
   "codemirror_mode": {
    "name": "ipython",
    "version": 3
   },
   "file_extension": ".py",
   "mimetype": "text/x-python",
   "name": "python",
   "nbconvert_exporter": "python",
   "pygments_lexer": "ipython3",
   "version": "3.10.8"
  }
 },
 "nbformat": 4,
 "nbformat_minor": 5
}
