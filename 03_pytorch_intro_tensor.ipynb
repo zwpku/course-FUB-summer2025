{
 "cells": [
  {
   "cell_type": "markdown",
   "id": "afbc8c47",
   "metadata": {},
   "source": [
    "official tutorial: https://docs.pytorch.org/tutorials/beginner/introyt/tensors_deeper_tutorial.html"
   ]
  },
  {
   "cell_type": "code",
   "execution_count": null,
   "id": "6c6d71d5",
   "metadata": {},
   "outputs": [],
   "source": [
    "import torch\n",
    "import torch.nn as nn\n",
    "import torch.optim as optim\n",
    "from torch.utils.data import DataLoader\n",
    "import matplotlib.pyplot as plt\n",
    "import numpy as np"
   ]
  },
  {
   "cell_type": "markdown",
   "id": "d0fe9c1d",
   "metadata": {},
   "source": [
    "tensor initialization"
   ]
  },
  {
   "cell_type": "code",
   "execution_count": null,
   "id": "c9cfa23a",
   "metadata": {},
   "outputs": [],
   "source": [
    "x = torch.zeros(3, 4)\n",
    "print(type(x))\n",
    "print(x)\n",
    "print (x.shape)\n",
    "\n",
    "x = torch.ones(3, 4)\n",
    "print(x)\n",
    "\n",
    "torch.manual_seed(1721)\n",
    "random = torch.rand(2, 3)\n",
    "print(random)"
   ]
  },
  {
   "cell_type": "markdown",
   "id": "ec492328",
   "metadata": {},
   "source": [
    "basic math operation"
   ]
  },
  {
   "cell_type": "code",
   "execution_count": null,
   "id": "d40a2a00",
   "metadata": {},
   "outputs": [],
   "source": [
    "ones = torch.zeros(2, 2) + 1\n",
    "twos = torch.ones(2, 2) * 2\n",
    "threes = (torch.ones(2, 2) * 7 - 1) / 2\n",
    "fours = twos ** 2    # element-wise\n",
    "sqrt2s = twos ** 0.5\n",
    "\n",
    "print(ones)\n",
    "print(twos)\n",
    "print(threes)\n",
    "print(fours)\n",
    "print(sqrt2s)"
   ]
  },
  {
   "cell_type": "markdown",
   "id": "dc29f0fc",
   "metadata": {},
   "source": [
    "change shape "
   ]
  },
  {
   "cell_type": "code",
   "execution_count": null,
   "id": "3b1400bd",
   "metadata": {},
   "outputs": [],
   "source": [
    "x = torch.ones(3, 4)\n",
    "print(x.shape)\n",
    "y = x.reshape(2,6)\n",
    "print (y.shape)\n",
    "z = x.unsqueeze(2)\n",
    "print (z.shape)\n",
    "w = z.squeeze()\n",
    "print (w.shape)"
   ]
  },
  {
   "cell_type": "markdown",
   "id": "5f623c2f",
   "metadata": {},
   "source": [
    "### broadcasting\n",
    "\n",
    "operation rule for tensors of different types"
   ]
  },
  {
   "cell_type": "code",
   "execution_count": null,
   "id": "c5311ca7",
   "metadata": {},
   "outputs": [],
   "source": [
    "a =     torch.ones(4, 3, 2)\n",
    "\n",
    "b = a * torch.rand(   3, 2) # 3rd & 2nd dims identical to a, dim 1 absent\n",
    "print(b)\n",
    "\n",
    "c = a * torch.rand(   3, 1) # 3rd dim = 1, 2nd dim identical to a\n",
    "print(c)\n",
    "\n",
    "d = a * torch.rand(   1, 2) # 3rd dim identical to a, 2nd dim = 1\n",
    "print(d)"
   ]
  },
  {
   "cell_type": "markdown",
   "id": "6ee77181",
   "metadata": {},
   "source": [
    "vector and linear algebra operations"
   ]
  },
  {
   "cell_type": "code",
   "execution_count": null,
   "id": "b1f8aa6d",
   "metadata": {},
   "outputs": [],
   "source": [
    "\n",
    "v1 = torch.tensor([1., 0., 0.])         # x unit vector\n",
    "v2 = torch.tensor([0., 1., 0.])         # y unit vector\n",
    "m1 = torch.rand(2, 2)                   # random matrix\n",
    "m2 = torch.tensor([[3., 0.], [0., 3.]]) # three times identity matrix\n",
    "\n",
    "print('\\nVectors & Matrices:')\n",
    "print(torch.linalg.cross(v2, v1)) # negative of z unit vector (v1 x v2 == -v2 x v1)\n",
    "print(m1)\n",
    "m3 = torch.linalg.matmul(m1, m2)\n",
    "print(m3)                  # 3 times m1\n",
    "print(torch.linalg.svd(m3)) "
   ]
  },
  {
   "cell_type": "markdown",
   "id": "16c28440",
   "metadata": {},
   "source": [
    "conversion with numpy"
   ]
  },
  {
   "cell_type": "code",
   "execution_count": null,
   "id": "6288c2b7",
   "metadata": {},
   "outputs": [],
   "source": [
    "numpy_array = np.ones((2, 3))\n",
    "print(numpy_array)\n",
    "# from numpy to pytorch tensor\n",
    "pytorch_tensor = torch.from_numpy(numpy_array)\n",
    "print(pytorch_tensor)\n",
    "# from pytorch tensor to numpy\n",
    "numpy_array_1 = pytorch_tensor.numpy()\n",
    "print(numpy_array_1)"
   ]
  }
 ],
 "metadata": {
  "kernelspec": {
   "display_name": "Python 3 (ipykernel)",
   "language": "python",
   "name": "python3"
  },
  "language_info": {
   "codemirror_mode": {
    "name": "ipython",
    "version": 3
   },
   "file_extension": ".py",
   "mimetype": "text/x-python",
   "name": "python",
   "nbconvert_exporter": "python",
   "pygments_lexer": "ipython3",
   "version": "3.10.8"
  }
 },
 "nbformat": 4,
 "nbformat_minor": 5
}
