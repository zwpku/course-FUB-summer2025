{
 "cells": [
  {
   "cell_type": "markdown",
   "id": "a6f32556",
   "metadata": {},
   "source": [
    "## Autoencoder on MNIST dataset"
   ]
  },
  {
   "cell_type": "code",
   "execution_count": null,
   "id": "6c6d71d5",
   "metadata": {},
   "outputs": [],
   "source": [
    "import torch\n",
    "import torch.nn as nn\n",
    "import torch.optim as optim\n",
    "import torchvision\n",
    "from torchvision import transforms\n",
    "from torch.utils.data import DataLoader\n",
    "import matplotlib.pyplot as plt\n",
    "\n",
    "import numpy as np"
   ]
  },
  {
   "cell_type": "markdown",
   "id": "a8574ed0",
   "metadata": {},
   "source": [
    "### prepare (download) the MNIST dataset\n",
    "\n",
    "Torchvision provides many datasets. Here we work with MNIST, a dataset of images of digits 0-9. \n",
    " \n",
    "See:\n",
    " \n",
    " 1. Datasets:  https://pytorch.org/vision/main/datasets.html\n",
    " 2. Transform:    https://pytorch.org/vision/0.9/transforms.html"
   ]
  },
  {
   "cell_type": "code",
   "execution_count": null,
   "id": "72af230d",
   "metadata": {},
   "outputs": [],
   "source": [
    "# normalize the dataset\n",
    "transform = transforms.Compose([\n",
    "    transforms.ToTensor(),\n",
    "    transforms.Normalize((0.,), (1,))\n",
    "])\n",
    "\n",
    "# load the MNIST dataset, without normalization\n",
    "train_dataset = torchvision.datasets.MNIST(root='./data', train=True, transform=transform, download=True)\n",
    "\n",
    "# data for testing \n",
    "test_dataset = torchvision.datasets.MNIST(root='./data', train=False, transform=transform, download=True)\n",
    "\n",
    "# labels\n",
    "print (\"\\nLabels:\", train_dataset.classes)\n",
    "\n",
    "# digits of the images\n",
    "print (\"\\nClasses:\", train_dataset.targets)\n",
    "\n",
    "# shape of the training data tensor\n",
    "print (\"\\nData shape:\", train_dataset.data.shape)\n",
    "\n",
    "# shape of test data tensor\n",
    "print (\"\\nData shape:\", test_dataset.data.shape)"
   ]
  },
  {
   "cell_type": "markdown",
   "id": "d2387f39",
   "metadata": {},
   "source": [
    "### visualize images according to labels\n",
    "\n",
    "See:\n",
    "1. torch.where: \n",
    "    https://docs.pytorch.org/docs/stable/generated/torch.where.html    "
   ]
  },
  {
   "cell_type": "code",
   "execution_count": null,
   "id": "9eb94369",
   "metadata": {},
   "outputs": [],
   "source": [
    "from torch.utils.data import Subset\n",
    "\n",
    "# number of images to show for each digit\n",
    "num_examples = 8\n",
    "\n",
    "# loop over labels\n",
    "for label in range(10):\n",
    "    \n",
    "    # select indices with the matching label\n",
    "    indices = torch.where(train_dataset.targets == label)[0]\n",
    "    \n",
    "    # define a dataset only with images with matching label\n",
    "    label_dataset = Subset(train_dataset, indices)\n",
    "\n",
    "    # define a dataloader for this (sub)-dataset\n",
    "    label_loader = DataLoader(label_dataset, batch_size=num_examples, shuffle=True)\n",
    "    \n",
    "    # get some images\n",
    "    for data in label_loader:\n",
    "        img, labels = data \n",
    "        break\n",
    "        \n",
    "    # labels of all images should be the same    \n",
    "    print (labels)\n",
    "    \n",
    "    plt.figure(figsize=(5, 2))\n",
    "    for i in range(num_examples):\n",
    "        plt.subplot(1, num_examples, i + 1)\n",
    "        plt.imshow(img[i].numpy().reshape(28,28), cmap='gray')\n",
    "        plt.axis('off')"
   ]
  },
  {
   "cell_type": "markdown",
   "id": "67336775",
   "metadata": {},
   "source": [
    "### Define the autoencoder model\n"
   ]
  },
  {
   "cell_type": "code",
   "execution_count": null,
   "id": "6410dff2",
   "metadata": {},
   "outputs": [],
   "source": [
    "class Autoencoder(nn.Module):\n",
    "    \n",
    "    def __init__(self, encoding_dim):\n",
    "        super(Autoencoder, self).__init__()\n",
    "        # encoder\n",
    "        self.encoder = nn.Sequential(\n",
    "            nn.Linear(28*28, 128),\n",
    "            nn.ReLU(True),\n",
    "            nn.Linear(128, encoding_dim),\n",
    "        )\n",
    "        # decoder\n",
    "        self.decoder = nn.Sequential(\n",
    "            nn.Linear(encoding_dim, 128),\n",
    "            nn.ReLU(True),\n",
    "            nn.Linear(128, 28*28),\n",
    "            # range of sigmoid matches the range of data\n",
    "            nn.Sigmoid()\n",
    "        )\n",
    "        \n",
    "    def forward(self, x):\n",
    "        x = self.encoder(x)\n",
    "        x = self.decoder(x)\n",
    "        return x"
   ]
  },
  {
   "cell_type": "code",
   "execution_count": null,
   "id": "9961e8f2",
   "metadata": {},
   "outputs": [],
   "source": [
    "# Function for testing the autoencoder\n",
    "\n",
    "def test_autoencoder(model):   \n",
    "    \n",
    "    with torch.no_grad():\n",
    "         # get image from test_dataset\n",
    "        for data in test_loader:\n",
    "            img, target = data\n",
    "            \n",
    "            # change image of size 28x28 to 1d vector \n",
    "            img = img.view(img.size(0), -1)\n",
    "            break\n",
    "            \n",
    "    plt.figure(figsize=(20, 4))\n",
    "\n",
    "    # visualize some examples\n",
    "    num_examples = 10    \n",
    "    output = model(img).detach().numpy()\n",
    "    \n",
    "    for i in range(num_examples):\n",
    "        # original image\n",
    "        plt.subplot(2, num_examples, i + 1)\n",
    "        plt.imshow(img[i].cpu().numpy().reshape(28, 28), cmap='gray')\n",
    "        plt.title(\"Original\")\n",
    "        plt.axis('off')\n",
    "\n",
    "        # veconstructed image\n",
    "        plt.subplot(2, num_examples, i + 1 + num_examples)\n",
    "        plt.imshow(output[i].reshape(28, 28), cmap='gray')\n",
    "        plt.title(\"Reconstructed\")\n",
    "        plt.axis('off')\n",
    "\n",
    "    plt.figure(figsize=(8, 8))        \n",
    "    # visualize embeddings\n",
    "    num_examples = 1000\n",
    "    # embedding\n",
    "    z = model.encoder(img).detach().numpy()  \n",
    "    print(z.shape)\n",
    "    digits = range(10)    \n",
    "    for i in digits:\n",
    "         indices = np.where((target == i))\n",
    "         plt.scatter(z[indices,0],z[indices,1], s=0.8)\n",
    "         plt.legend(digits)\n",
    "    plt.show()    "
   ]
  },
  {
   "cell_type": "markdown",
   "id": "8b5ded7c",
   "metadata": {},
   "source": [
    "### define the model\n",
    "\n",
    "First, train the model with encoding_dim=2. Then, set encoding_dim=10 and rerun the training. See whether the result improves."
   ]
  },
  {
   "cell_type": "code",
   "execution_count": null,
   "id": "7dd5c139",
   "metadata": {},
   "outputs": [],
   "source": [
    "# dimension of latent space \n",
    "encoding_dim = 2\n",
    "model = Autoencoder(encoding_dim)"
   ]
  },
  {
   "cell_type": "markdown",
   "id": "68d4a66f",
   "metadata": {},
   "source": [
    "### Let's test the model before training"
   ]
  },
  {
   "cell_type": "code",
   "execution_count": null,
   "id": "76992e76",
   "metadata": {
    "scrolled": true
   },
   "outputs": [],
   "source": [
    "\n",
    "test_loader = DataLoader(test_dataset, batch_size=10000, shuffle=False)\n",
    "\n",
    "test_autoencoder(model)"
   ]
  },
  {
   "cell_type": "markdown",
   "id": "a89e92eb",
   "metadata": {},
   "source": [
    "### train autoencoder with reconstruction loss\n",
    "\n",
    "Mean Square Error (MSE) loss, see:\n",
    "   https://pytorch.org/docs/stable/generated/torch.nn.MSELoss.html"
   ]
  },
  {
   "cell_type": "code",
   "execution_count": null,
   "id": "db86c8d8",
   "metadata": {},
   "outputs": [],
   "source": [
    "criterion = nn.MSELoss()\n",
    "\n",
    "optimizer = optim.Adam(model.parameters(), lr=0.005)\n",
    "\n",
    "num_epochs = 10\n",
    "\n",
    "train_loader = DataLoader(train_dataset, batch_size=128, shuffle=True)\n",
    "\n",
    "for epoch in range(num_epochs):\n",
    "    for data in train_loader:\n",
    "        \n",
    "        # In this test, we do not need information of labels\n",
    "        img, target = data\n",
    "\n",
    "        # flatten each image to a 1D vector of length 28*28     \n",
    "        img = img.view(img.size(0), -1)\n",
    "\n",
    "        # Forward pass\n",
    "        output = model(img)\n",
    "        loss = criterion(output, img)\n",
    "\n",
    "        # Backward pass and optimization\n",
    "        optimizer.zero_grad()\n",
    "        loss.backward()\n",
    "        optimizer.step()\n",
    "\n",
    "    print(f'Epoch [{epoch+1}/{num_epochs}], Loss: {loss.item():.4f}')"
   ]
  },
  {
   "cell_type": "markdown",
   "id": "dfafaeef",
   "metadata": {},
   "source": [
    "### test the model again after training"
   ]
  },
  {
   "cell_type": "code",
   "execution_count": null,
   "id": "db4c5f43",
   "metadata": {},
   "outputs": [],
   "source": [
    "test_autoencoder(model)"
   ]
  }
 ],
 "metadata": {
  "kernelspec": {
   "display_name": "Python 3 (ipykernel)",
   "language": "python",
   "name": "python3"
  },
  "language_info": {
   "codemirror_mode": {
    "name": "ipython",
    "version": 3
   },
   "file_extension": ".py",
   "mimetype": "text/x-python",
   "name": "python",
   "nbconvert_exporter": "python",
   "pygments_lexer": "ipython3",
   "version": "3.10.8"
  }
 },
 "nbformat": 4,
 "nbformat_minor": 5
}
