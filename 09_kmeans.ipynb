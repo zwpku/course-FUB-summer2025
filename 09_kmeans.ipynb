{
 "cells": [
  {
   "cell_type": "markdown",
   "id": "e22d224b",
   "metadata": {},
   "source": [
    "## Demonstration of K-means clustering \n",
    "\n",
    "\n",
    "Package scikit-learn implements various machine learning algorithms:\n",
    "\n",
    "    https://scikit-learn.org/stable/index.html\n",
    "    \n",
    "This code comes from https://scikit-learn.org/stable/auto_examples/cluster/plot_kmeans_assumptions.html\n",
    "    "
   ]
  },
  {
   "cell_type": "markdown",
   "id": "a512f89f",
   "metadata": {},
   "source": [
    "### generate data \n",
    "\n",
    "\n",
    "The function **make_blobs** generates isotropic (spherical) gaussian blobs. \n",
    "\n",
    "See:\n",
    "https://scikit-learn.org/stable/modules/generated/sklearn.datasets.make_blobs.html#sklearn.datasets.make_blobs\n",
    "\n",
    "To obtain anisotropic (elliptical) gaussian blobs one has to define a linear transformation"
   ]
  },
  {
   "cell_type": "code",
   "execution_count": null,
   "id": "d4822ae3",
   "metadata": {},
   "outputs": [],
   "source": [
    "import numpy as np\n",
    "\n",
    "from sklearn.datasets import make_blobs\n",
    "\n",
    "n_samples = 1500\n",
    "random_state = 170\n",
    "transformation = [[0.60834549, -0.63667341], [-0.40887718, 0.85253229]]\n",
    "\n",
    "X, y = make_blobs(n_samples=n_samples, random_state=random_state)\n",
    "\n",
    "X_aniso = np.dot(X, transformation)  # Anisotropic blobs\n",
    "\n",
    "X_varied, y_varied = make_blobs(\n",
    "    n_samples=n_samples, cluster_std=[1.0, 2.5, 0.5], random_state=random_state\n",
    ")  # Unequal variance\n",
    "\n",
    "X_filtered = np.vstack(\n",
    "    (X[y == 0][:500], X[y == 1][:100], X[y == 2][:10])\n",
    ")  # Unevenly sized blobs\n",
    "\n",
    "y_filtered = [0] * 500 + [1] * 100 + [2] * 10"
   ]
  },
  {
   "cell_type": "markdown",
   "id": "6b46fca9",
   "metadata": {},
   "source": [
    "### visualize the data\n"
   ]
  },
  {
   "cell_type": "code",
   "execution_count": null,
   "id": "2eb77f3e",
   "metadata": {},
   "outputs": [],
   "source": [
    "import matplotlib.pyplot as plt\n",
    "\n",
    "fig, axs = plt.subplots(nrows=2, ncols=2, figsize=(8, 8))\n",
    "\n",
    "axs[0, 0].scatter(X[:, 0], X[:, 1], c=y)\n",
    "axs[0, 0].set_title(\"Mixture of Gaussian Blobs\")\n",
    "\n",
    "axs[0, 1].scatter(X_aniso[:, 0], X_aniso[:, 1], c=y)\n",
    "axs[0, 1].set_title(\"Anisotropically Distributed Blobs\")\n",
    "\n",
    "axs[1, 0].scatter(X_varied[:, 0], X_varied[:, 1], c=y_varied)\n",
    "axs[1, 0].set_title(\"Unequal Variance\")\n",
    "\n",
    "axs[1, 1].scatter(X_filtered[:, 0], X_filtered[:, 1], c=y_filtered)\n",
    "axs[1, 1].set_title(\"Unevenly Sized Blobs\")\n",
    "\n",
    "plt.suptitle(\"Ground truth clusters\").set_y(0.95)\n",
    "plt.show()"
   ]
  },
  {
   "cell_type": "markdown",
   "id": "db622368",
   "metadata": {},
   "source": [
    "### Perform k-means clustering algorithm to the datasets\n",
    "\n",
    "Document of **KMeans** clustering: \n",
    "    https://scikit-learn.org/stable/modules/generated/sklearn.cluster.KMeans.html#sklearn.cluster.KMeans\n",
    "    \n",
    "Observe the clustering results on each dataset.\n",
    "\n",
    "Further discussions are in the following link:\n",
    "\n",
    "https://scikit-learn.org/stable/auto_examples/cluster/plot_kmeans_assumptions.html#sphx-glr-auto-examples-cluster-plot-kmeans-assumptions-py"
   ]
  },
  {
   "cell_type": "code",
   "execution_count": null,
   "id": "af1e95d0",
   "metadata": {},
   "outputs": [],
   "source": [
    "from sklearn.cluster import KMeans\n",
    "\n",
    "common_params = {\n",
    "    \"n_init\": \"auto\",\n",
    "    \"random_state\": random_state,\n",
    "}\n",
    "\n",
    "fig, axs = plt.subplots(nrows=2, ncols=2, figsize=(9, 9))\n",
    "\n",
    "y_pred = KMeans(n_clusters=2, **common_params).fit_predict(X)\n",
    "axs[0, 0].scatter(X[:, 0], X[:, 1], c=y_pred)\n",
    "axs[0, 0].set_title(\"Non-optimal Number of Clusters\")\n",
    "\n",
    "y_pred = KMeans(n_clusters=3, **common_params).fit_predict(X_aniso)\n",
    "axs[0, 1].scatter(X_aniso[:, 0], X_aniso[:, 1], c=y_pred)\n",
    "axs[0, 1].set_title(\"Anisotropically Distributed Blobs\")\n",
    "\n",
    "y_pred = KMeans(n_clusters=3, **common_params).fit_predict(X_varied)\n",
    "axs[1, 0].scatter(X_varied[:, 0], X_varied[:, 1], c=y_pred)\n",
    "axs[1, 0].set_title(\"Unequal Variance\")\n",
    "\n",
    "y_pred = KMeans(n_clusters=3, **common_params).fit_predict(X_filtered)\n",
    "axs[1, 1].scatter(X_filtered[:, 0], X_filtered[:, 1], c=y_pred)\n",
    "axs[1, 1].set_title(\"Unevenly Sized Blobs\")\n",
    "\n",
    "plt.suptitle(\"Unexpected KMeans clusters\").set_y(0.95)\n",
    "plt.show()"
   ]
  },
  {
   "cell_type": "markdown",
   "id": "98a1cfc7",
   "metadata": {},
   "source": [
    "### The clustering result is impacted by the number of clusters \n",
    "\n",
    "For the first data set, desired clustering result is obtained when the number of clusters is set to 3."
   ]
  },
  {
   "cell_type": "code",
   "execution_count": null,
   "id": "339e8165",
   "metadata": {},
   "outputs": [],
   "source": [
    "y_pred = KMeans(n_clusters=2, **common_params).fit_predict(X)\n",
    "plt.scatter(X[:, 0], X[:, 1], c=y_pred)\n",
    "plt.title(\"2 clusters\")\n",
    "plt.show()\n",
    "\n",
    "y_pred = KMeans(n_clusters=3, **common_params).fit_predict(X)\n",
    "plt.scatter(X[:, 0], X[:, 1], c=y_pred)\n",
    "plt.title(\"Optimal Number of Clusters\")\n",
    "plt.show()"
   ]
  },
  {
   "cell_type": "markdown",
   "id": "06c5778b",
   "metadata": {},
   "source": [
    "### Improving clustering results by running k-means algorithm multiple times with different centroid seeds. \n",
    "\n",
    "**n_init**: Number of times the k-means algorithm is run with different centroid seeds\n",
    "\n",
    "In this case we set n_init=10 to avoid finding a sub-optimal local minimum."
   ]
  },
  {
   "cell_type": "code",
   "execution_count": null,
   "id": "66310441",
   "metadata": {},
   "outputs": [],
   "source": [
    "y_pred = KMeans(n_clusters=3, n_init=10, random_state=random_state).fit_predict(\n",
    "    X_filtered\n",
    ")\n",
    "plt.scatter(X_filtered[:, 0], X_filtered[:, 1], c=y_pred)\n",
    "plt.title(\"Unevenly Sized Blobs \\nwith several initializations\")\n",
    "plt.show()"
   ]
  },
  {
   "cell_type": "markdown",
   "id": "6f3c968b",
   "metadata": {},
   "source": [
    "### Gaussian Mixture can handle anisotropic and unequal variances more effectively. \n",
    "\n",
    "See: https://scikit-learn.org/stable/modules/generated/sklearn.mixture.GaussianMixture.html#sklearn.mixture.GaussianMixture\n",
    "\n",
    "But, one still needs to provide number of clusters!"
   ]
  },
  {
   "cell_type": "code",
   "execution_count": null,
   "id": "690539d1",
   "metadata": {},
   "outputs": [],
   "source": [
    "from sklearn.mixture import GaussianMixture\n",
    "\n",
    "fig, (ax1, ax2) = plt.subplots(nrows=1, ncols=2, figsize=(8, 4))\n",
    "\n",
    "y_pred = GaussianMixture(n_components=3).fit_predict(X_aniso)\n",
    "ax1.scatter(X_aniso[:, 0], X_aniso[:, 1], c=y_pred)\n",
    "ax1.set_title(\"Anisotropically Distributed Blobs\")\n",
    "\n",
    "y_pred = GaussianMixture(n_components=3).fit_predict(X_varied)\n",
    "ax2.scatter(X_varied[:, 0], X_varied[:, 1], c=y_pred)\n",
    "ax2.set_title(\"Unequal Variance\")\n",
    "\n",
    "plt.suptitle(\"Gaussian mixture clusters\").set_y(0.98)\n",
    "plt.show()"
   ]
  },
  {
   "cell_type": "code",
   "execution_count": null,
   "id": "adb08f61",
   "metadata": {},
   "outputs": [],
   "source": []
  }
 ],
 "metadata": {
  "kernelspec": {
   "display_name": "Python 3 (ipykernel)",
   "language": "python",
   "name": "python3"
  },
  "language_info": {
   "codemirror_mode": {
    "name": "ipython",
    "version": 3
   },
   "file_extension": ".py",
   "mimetype": "text/x-python",
   "name": "python",
   "nbconvert_exporter": "python",
   "pygments_lexer": "ipython3",
   "version": "3.10.8"
  }
 },
 "nbformat": 4,
 "nbformat_minor": 5
}
