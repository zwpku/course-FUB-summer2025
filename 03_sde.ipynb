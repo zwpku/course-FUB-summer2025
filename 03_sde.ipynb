{
 "cells": [
  {
   "cell_type": "markdown",
   "id": "64d83614",
   "metadata": {},
   "source": [
    " "
   ]
  },
  {
   "cell_type": "code",
   "execution_count": null,
   "id": "085ac086",
   "metadata": {
    "scrolled": false
   },
   "outputs": [],
   "source": [
    "import numpy as np\n",
    "import matplotlib.pyplot as plt\n",
    "import matplotlib.colors as colors"
   ]
  },
  {
   "cell_type": "markdown",
   "id": "88e1854a",
   "metadata": {},
   "source": [
    "### Brownian motion in $\\mathbb{R}^2$\n",
    "\n",
    "(from last week)"
   ]
  },
  {
   "cell_type": "code",
   "execution_count": null,
   "id": "8ccc23d0",
   "metadata": {},
   "outputs": [],
   "source": [
    "# sample the SDE using Euler-Maruyama scheme\n",
    "def sample(dim=2, T=1.0, N=10000, seed=42):\n",
    "    rng = np.random.default_rng(seed=seed)\n",
    "    X = [0, 0]\n",
    "    traj = [X]\n",
    "    delta_t = T / N\n",
    "    save = 10\n",
    "    for i in range(N):\n",
    "        b = rng.normal(size=(dim,))\n",
    "        X = X + np.sqrt(delta_t) * b\n",
    "        if i % save==0:\n",
    "            traj.append(X)\n",
    "    return np.array(traj)\n",
    "\n",
    "trajectory = sample(T=1,seed=42)\n",
    "plt.plot(trajectory[:,0], trajectory[:,1])\n",
    "plt.xlim([-2,2])\n",
    "plt.ylim([-2,2])"
   ]
  },
  {
   "cell_type": "markdown",
   "id": "61336c17",
   "metadata": {},
   "source": [
    "### Brownian dynamics \n",
    "\n",
    "$$dX_t = -\\nabla V(X_t) dt + \\sqrt{2\\beta^{-1}} dB_t$$\n",
    "\n",
    "with potential\n",
    "\n",
    "$$V(x) = (x_1^2-1)^2 + 2.0 * (x_1^2+x_2-1)^2$$ \n",
    "\n",
    "first, define $V$ and its gradient"
   ]
  },
  {
   "cell_type": "code",
   "execution_count": null,
   "id": "59cf1952",
   "metadata": {},
   "outputs": [],
   "source": [
    "# a potential function\n",
    "def V(X):\n",
    "    return (X[0]**2 - 1)**2 + 2.0 * (X[0]**2 + X[1] - 1)**2\n",
    "\n",
    "# gradient of potential function \n",
    "def gradV(X):\n",
    "    return np.array(( 4.0 * X[0] * (X[0]**2 - 1.0 + 2.0*(X[0]**2 + X[1] - 1)), 4.0 * (X[0]**2 + X[1] - 1)) )"
   ]
  },
  {
   "cell_type": "markdown",
   "id": "a6597a5d",
   "metadata": {},
   "source": [
    "show the potential profile"
   ]
  },
  {
   "cell_type": "code",
   "execution_count": null,
   "id": "b52cb3c9",
   "metadata": {},
   "outputs": [],
   "source": [
    "x = np.arange(-2.5, 2.5, 0.05)\n",
    "y = np.arange(-2.5, 2.5, 0.05)\n",
    "X, Y = np.meshgrid(x, y)\n",
    "\n",
    "plt.figure(figsize = (6, 4))\n",
    "\n",
    "contour_levels = [0.0, 1.0, 1.5, 2.0, 3.0, 4.0]\n",
    "\n",
    "# evaluate potential on mesh\n",
    "V_on_grid = V([X,Y])\n",
    "\n",
    "fig = plt.figure(figsize=(7,4))\n",
    "ax = fig.add_subplot(1, 1, 1)\n",
    "\n",
    "# plot profile by pcolormesh\n",
    "im = ax.pcolormesh(X, Y, V_on_grid, cmap='coolwarm',shading='auto', vmin=0, vmax=4)\n",
    "\n",
    "# show contour lines\n",
    "contours = ax.contour(X, Y, V_on_grid, contour_levels)\n",
    "ax.clabel(contours, inline=True, fontsize=13,colors='black')\n",
    "\n",
    "ax.set_aspect('equal')\n",
    "ax.set_xlabel(r'$x_1$',fontsize=20)\n",
    "ax.set_ylabel(r'$x_2$',fontsize=20, rotation=0)\n",
    "ax.tick_params(axis='both', labelsize=20)\n",
    "\n",
    "ax.set_xticks([-2.0, -1.0, 0, 1.0, 2.0])\n",
    "ax.set_yticks([-2.0, -1.0, 0, 1.0, 2.0])\n",
    "ax.set_xlim([-2.5, 2.5])\n",
    "ax.set_ylim([-2.5, 2.5])\n",
    "\n",
    "ax.set_title('V',fontsize=25)\n",
    "\n",
    "# show colorbar\n",
    "cbar = fig.colorbar(im, ax=ax, shrink=1.0)\n",
    "cbar.ax.tick_params(labelsize=15)\n",
    "plt.show()"
   ]
  },
  {
   "cell_type": "markdown",
   "id": "4ad88eb4",
   "metadata": {},
   "source": [
    "### compute mean using running average\n",
    "\n",
    "Invariant density:\n",
    "$$ \\pi(x) = \\frac{1}{Z} \\mathrm{e}^{-\\beta V(x)}$$\n",
    "\n",
    "Mean of a function $g$:\n",
    "\n",
    "$$ \\mathbb{E}_\\pi(g) = \\frac{1}{Z} \\int_{\\mathbb{R}^2} g(x) \\mathrm{e}^{-\\beta V(x)} dx$$\n",
    "\n",
    "\n",
    "We take $g(x_1,x_2)=x_1$ and estimate the mean using:\n",
    "\n",
    "$$\\mathbb{E}_\\pi(g) \\approx \\frac{1}{N} \\sum_{n=1}^N g(x_n)$$\n",
    "\n",
    "where $x_n$ are sampled from $$dX_t = -\\nabla V(X_t) dt + \\sqrt{2\\beta^{-1}} dB_t$$\n"
   ]
  },
  {
   "cell_type": "code",
   "execution_count": null,
   "id": "e6d4cb3e",
   "metadata": {},
   "outputs": [],
   "source": [
    "\n",
    "def g(X):\n",
    "    return X[0]\n",
    "\n",
    "# sample the SDE using Euler-Maruyama scheme\n",
    "def sample(beta=1.0, N=10000, seed=42):\n",
    "    rng = np.random.default_rng(seed=seed)\n",
    "    X = [-1, 0]\n",
    "    dim = 2 \n",
    "    traj = [X]\n",
    "    delta_t = 0.001\n",
    "    save = 10\n",
    "    g_sum = 0.0\n",
    "    for i in range(N):\n",
    "        b = rng.normal(size=(dim,))\n",
    "        X = X - gradV(X) * delta_t + np.sqrt(2 * delta_t/beta) * b\n",
    "        g_sum = g_sum + g(X) \n",
    "        if i % save==0:\n",
    "            traj.append(X)\n",
    "\n",
    "    return np.array(traj), g_sum / N\n",
    "\n",
    "seed_list = [1, 199, 235, 37, 42]\n",
    "# for each seed, generate a long trajectory \n",
    "for seed in seed_list:\n",
    "    trajectory, g_mean = sample(beta=1.0, N=200000, seed=seed)\n",
    "    print (r'seed=%d, mean of g: %.4f' % (seed, g_mean))\n",
    "    \n",
    "print (\"\\n\\nshape of trajectory array:\", trajectory.shape)\n",
    "# compute values of potential along the trajectory\n",
    "v_traj = np.array([V(x) for x in trajectory])"
   ]
  },
  {
   "cell_type": "markdown",
   "id": "d1401e62",
   "metadata": {},
   "source": [
    "### plot "
   ]
  },
  {
   "cell_type": "code",
   "execution_count": null,
   "id": "60fed994",
   "metadata": {},
   "outputs": [],
   "source": [
    "fig, ax=plt.subplots(1,2,figsize=(12,5))\n",
    "\n",
    "ret = ax[0].scatter(trajectory[:,0], trajectory[:,1], c=v_traj)\n",
    "\n",
    "cbar = plt.colorbar(ret, ax=ax[0], shrink=1.0)\n",
    "cbar.ax.tick_params(labelsize=15)\n",
    "ax[0].set_xlabel(r'$x_1$',fontsize=20)\n",
    "ax[0].set_ylabel(r'$x_2$',fontsize=20, rotation=0)\n",
    "ax[0].tick_params(axis='both', labelsize=20)\n",
    "ax[0].set_title('trajectory data',fontsize=25)\n",
    "\n",
    "ax[1].plot(trajectory[:,0])\n",
    "ax[1].set_xlabel(r'step',fontsize=20)\n",
    "ax[1].set_ylabel(r'$x_1$',fontsize=20)\n",
    "\n",
    "plt.show()"
   ]
  },
  {
   "cell_type": "markdown",
   "id": "a5daedb4",
   "metadata": {},
   "source": [
    "### Exit time\n",
    "\n",
    "Domain:\n",
    "$D = \\{x=(x_1,x_2)\\in \\mathbb{R}^2|x_1 < 0.1\\}$.\n",
    "\n",
    "First exit time:\n",
    "$\\tau = \\inf_{t>0}\\{X_t \\not\\in D | X_0=(-1,0)\\}$."
   ]
  },
  {
   "cell_type": "code",
   "execution_count": null,
   "id": "e54147b8",
   "metadata": {},
   "outputs": [],
   "source": [
    "# check if still in domain\n",
    "def in_D(X):\n",
    "    return X[0]<0.1\n",
    "\n",
    "# sample the SDE using Euler-Maruyama scheme\n",
    "def sample(beta=1.0, seed=42):\n",
    "    rng = np.random.default_rng(seed=seed)\n",
    "    X = [-1, 0]\n",
    "    dim = 2 \n",
    "    traj = [X]\n",
    "    delta_t = 0.001\n",
    "    save = 10\n",
    "    i = 0 \n",
    "    while True :\n",
    "        b = rng.normal(size=(dim,))\n",
    "        X = X - gradV(X) * delta_t + np.sqrt(2 * delta_t/beta) * b\n",
    "        if not in_D(X) :\n",
    "            break\n",
    "        i = i + 1\n",
    "        if i % save==0:\n",
    "            traj.append(X)\n",
    "\n",
    "    return np.array(traj), i * delta_t\n",
    "\n",
    "seed_list = [1, 199, 235, 37, 42]\n",
    "tau_list = []\n",
    "# for each seed, generate a long trajectory \n",
    "for seed in seed_list:\n",
    "    trajectory, tau = sample(beta=2.0, seed=seed)\n",
    "    tau_list.append(tau)\n",
    "    #print (r'seed=%d, tau=%.2f' % (seed, tau))\n",
    "\n",
    "tau_list = np.array(tau_list)\n",
    "print ('tau_list:', tau_list)\n",
    "print ('[mean, var]: %.3f, %.3f' % (tau_list.mean(), tau_list.var()))"
   ]
  },
  {
   "cell_type": "markdown",
   "id": "f1c41e1b",
   "metadata": {},
   "source": [
    "### OU Process\n",
    "\n",
    "Brownian dynamics:\n",
    "$$dX_t = -\\nabla V(X_t) dt + \\sqrt{2\\beta^{-1}} dB_t$$\n",
    "\n",
    "Invariant density:\n",
    "$$ \\pi(x) = \\frac{1}{Z} \\mathrm{e}^{-\\beta V(x)}$$\n",
    "\n",
    "With the choice $V(x) = \\frac{\\kappa |x|^2}{2}$, we get the OU process:\n",
    "\n",
    "$$dX_t = -\\kappa X_t dt + \\sqrt{2\\beta^{-1}} dB_t$$\n",
    "\n",
    "The invariant density is (Gaussian):\n",
    "$$ \\pi(x) = \\Big(\\frac{2\\pi}{\\beta\\kappa}\\Big)^{-\\frac{d}{2}} \\exp\\Big(-\\frac{\\beta\\kappa |x|^2}{2}\\Big)$$. "
   ]
  },
  {
   "cell_type": "code",
   "execution_count": null,
   "id": "4fbc9ffa",
   "metadata": {},
   "outputs": [],
   "source": [
    "# sample the SDE using Euler-Maruyama scheme\n",
    "def sample(dim=1, beta=1.0, kappa=1.0, N=10000, seed=42):\n",
    "    rng = np.random.default_rng(seed=seed)\n",
    "    X = np.zeros(dim)\n",
    "    traj = [X]\n",
    "    delta_t = 0.001\n",
    "    save = 5\n",
    "    for i in range(N):\n",
    "        b = rng.normal(size=(dim,))\n",
    "        X = X - kappa * X * delta_t + np.sqrt(2 * delta_t/beta) * b\n",
    "        if i % save==0:\n",
    "            traj.append(X)\n",
    "\n",
    "    return np.array(traj)\n",
    "\n",
    "beta = 1.0\n",
    "kappa = 1.0\n",
    "# generate a long trajectory \n",
    "trajectory = sample(dim=1, beta=beta, kappa=kappa, N=1000000, seed=400)\n",
    "   \n",
    "print (\"Number of states:\", trajectory.shape[0])\n",
    "\n",
    "# plot histogram. The first 40000 states are discarded  \n",
    "count, bins, _ = plt.hist(trajectory[40000:], 50, density=True) \n",
    "# compute invariant density (gaussian) \n",
    "gaussian_pdf = 1.0/np.sqrt(2 * np.pi / (beta * kappa)) * np.exp(-beta * kappa * bins**2 / 2)\n",
    "\n",
    "plt.plot(bins, gaussian_pdf, linewidth=2, color='r')\n",
    "\n",
    "plt.show()"
   ]
  },
  {
   "cell_type": "markdown",
   "id": "1c6e4f21",
   "metadata": {},
   "source": [
    "OU process in $\\mathbb{R}^2$"
   ]
  },
  {
   "cell_type": "code",
   "execution_count": null,
   "id": "9c4b0ef9",
   "metadata": {},
   "outputs": [],
   "source": [
    "# generate a long trajectory, set dim=2\n",
    "trajectory = sample(dim=2, beta=beta, kappa=kappa, N=1000000, seed=400)\n",
    "print (\"Number of states:\", trajectory.shape[0])\n",
    "\n",
    "fig = plt.figure(figsize=(7,5))\n",
    "ax = fig.add_subplot(1, 1, 1)\n",
    "\n",
    "# compute histogram statistics\n",
    "h, xedges, yedges = np.histogram2d(trajectory[:,0], trajectory[:,1], bins=[100, 100], range=[[-2.5,2.5],[-2.5,2.5]], density=True)\n",
    "\n",
    "# get the meshgrid\n",
    "X, Y = np.meshgrid(xedges, yedges)\n",
    "# plot the histogram, specify the colormap and log scale\n",
    "im = ax.pcolormesh(X, Y, h.T, cmap='coolwarm', shading='auto')\n",
    "\n",
    "# show colorbar\n",
    "cbar = fig.colorbar(im, ax=ax, shrink=1.0)\n",
    "cbar.ax.tick_params(labelsize=15)\n",
    "\n",
    "ax.set_aspect('equal')\n",
    "ax.set_xlim([-2.5, 2.5])\n",
    "ax.set_ylim([-2.5, 2.5])\n",
    "ax.set_xlabel(r'$x_1$',fontsize=20)\n",
    "ax.set_ylabel(r'$x_2$',fontsize=20, rotation=0)\n",
    "ax.tick_params(axis='both', labelsize=20)\n",
    "ax.set_xticks([-2.0, -1.0, 0, 1.0, 2.0])\n",
    "ax.set_yticks([-2.0, -1.0, 0, 1.0, 2.0])\n",
    "plt.show()"
   ]
  }
 ],
 "metadata": {
  "kernelspec": {
   "display_name": "Python 3 (ipykernel)",
   "language": "python",
   "name": "python3"
  },
  "language_info": {
   "codemirror_mode": {
    "name": "ipython",
    "version": 3
   },
   "file_extension": ".py",
   "mimetype": "text/x-python",
   "name": "python",
   "nbconvert_exporter": "python",
   "pygments_lexer": "ipython3",
   "version": "3.10.8"
  }
 },
 "nbformat": 4,
 "nbformat_minor": 5
}
